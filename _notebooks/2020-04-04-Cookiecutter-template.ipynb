{
 "cells": [
  {
   "cell_type": "markdown",
   "metadata": {},
   "source": [
    "# Cookiecutter - Project template "
   ]
  },
  {
   "cell_type": "markdown",
   "metadata": {},
   "source": [
    "Its good to have a consistent structure for all the projects/packages. Its better to create a template and reuse it\n",
    "for all projects. Cookiecutter is a great tool for doing this. Let's assume we want to have the following structure. "
   ]
  },
  {
   "cell_type": "markdown",
   "metadata": {},
   "source": [
    "![](image5.png)"
   ]
  },
  {
   "cell_type": "markdown",
   "metadata": {},
   "source": [
    "First install the cookiescutter package as"
   ]
  },
  {
   "cell_type": "code",
   "execution_count": null,
   "metadata": {},
   "outputs": [],
   "source": [
    "!pip install cookiecuttter"
   ]
  },
  {
   "cell_type": "markdown",
   "metadata": {},
   "source": [
    "To define a template, we need two things: \n",
    "- Folder/file structure\n",
    "- a cookiecutter.json file that acts as a configure file. \n",
    "\n",
    "The {{cookiecutter.project}} is a template for the project folder with a project name 'project'. Let's define the properties of the project. For that, we need to edit the cookiecutter.json file"
   ]
  },
  {
   "cell_type": "markdown",
   "metadata": {},
   "source": [
    "![](image2.png)"
   ]
  },
  {
   "cell_type": "markdown",
   "metadata": {},
   "source": [
    "Add the follow text to the coookiecutter.json file:\n",
    "This provides good defaults for the project. "
   ]
  },
  {
   "cell_type": "code",
   "execution_count": null,
   "metadata": {},
   "outputs": [],
   "source": [
    "{ \n",
    "    \"project\": 'project', \n",
    "    'author': 'author', \n",
    "    'version': '0.1',\n",
    "    'description': 'description'\n",
    "}"
   ]
  },
  {
   "cell_type": "markdown",
   "metadata": {},
   "source": [
    "Inside the {{cookiecutter.project}} folder, create the following folder and files. We can use the ___src___ folder for storing the source files.\n",
    "\n",
    "\n",
    "![](image3.png)"
   ]
  },
  {
   "cell_type": "markdown",
   "metadata": {},
   "source": [
    "We can edit the README.md file as: "
   ]
  },
  {
   "cell_type": "code",
   "execution_count": null,
   "metadata": {},
   "outputs": [],
   "source": [
    "## readme of the {{cookiecutter.project}}\n",
    "\n",
    "Author : {{cookiecutter.author}}\n",
    "Version: {{cookiecutter.version}}"
   ]
  },
  {
   "cell_type": "markdown",
   "metadata": {},
   "source": [
    "Similarly, let's create a very basic setup.py file as follow: "
   ]
  },
  {
   "cell_type": "code",
   "execution_count": null,
   "metadata": {},
   "outputs": [],
   "source": [
    "import setuptools\n",
    "\n",
    "setuptools.setup(\n",
    "    name=\"{{cookiecutter.project}}\", \n",
    "    author=\"{{cookiecutter.author}}\", \n",
    "    version=\"{{cookiecutter.version}}\",\n",
    "    classifiers=[\n",
    "        \"Programming Language :: Python :: 3\",\n",
    "        \"License :: OSI Approved :: MIT License\",\n",
    "        \"Operating System :: OS Independent\",\n",
    "    ],\n",
    "    python_requires='>=3.6',\n",
    "\n",
    ")"
   ]
  },
  {
   "cell_type": "markdown",
   "metadata": {},
   "source": [
    "We are all set, go back to the root folder, where we have the ___cookiecutter.json___ file. To create a new package/project based on the template, we can run the following command. "
   ]
  },
  {
   "cell_type": "code",
   "execution_count": null,
   "metadata": {},
   "outputs": [],
   "source": [
    "cookiecutter  ."
   ]
  },
  {
   "cell_type": "markdown",
   "metadata": {},
   "source": [
    "when you run the command, we will be asked to provide the project name, author and the project version, the default are also listed (in the []). If you don't want to provide certain property simplly hit _ENTER_. Here is an example run. "
   ]
  },
  {
   "cell_type": "markdown",
   "metadata": {},
   "source": [
    "![](image4.png)"
   ]
  },
  {
   "cell_type": "markdown",
   "metadata": {},
   "source": [
    "you will see a new folder created called ___test_project___"
   ]
  },
  {
   "cell_type": "markdown",
   "metadata": {},
   "source": [
    "![](image5.png)"
   ]
  },
  {
   "cell_type": "markdown",
   "metadata": {},
   "source": [
    "We can now check the README.md and the setup.py files from the newly created project. "
   ]
  },
  {
   "cell_type": "raw",
   "metadata": {},
   "source": [
    "## readme of the test_project\n",
    "\n",
    "Author : jnfarooq\n",
    "Version: 0.0.1"
   ]
  },
  {
   "cell_type": "markdown",
   "metadata": {},
   "source": [
    "and ..."
   ]
  },
  {
   "cell_type": "code",
   "execution_count": null,
   "metadata": {},
   "outputs": [],
   "source": [
    "import setuptools\n",
    "\n",
    "setuptools.setup(\n",
    "    name=\"test_project\", \n",
    "    author=\"jnfarooq\", \n",
    "    version=\"0.0.1\",\n",
    "    classifiers=[\n",
    "        \"Programming Language :: Python :: 3\",\n",
    "        \"License :: OSI Approved :: MIT License\",\n",
    "        \"Operating System :: OS Independent\",\n",
    "    ],\n",
    "    python_requires='>=3.6',\n",
    "\n",
    ")"
   ]
  },
  {
   "cell_type": "markdown",
   "metadata": {},
   "source": [
    "You can use this as template for all your projects. "
   ]
  },
  {
   "cell_type": "markdown",
   "metadata": {},
   "source": [
    "### Pushing the template to github\n",
    "One easy way is to push your cookiecutter template to your github and whenever its needed, just pull the repo and use it create new projects. Let's do that. \n",
    "Go to your github account and create a new repo called: __cookiecutter__\n",
    "\n",
    "Go to the root folder where the template is and run the following git commands. "
   ]
  },
  {
   "cell_type": "code",
   "execution_count": null,
   "metadata": {},
   "outputs": [],
   "source": [
    "!echo \"# cookiecutter\" >> README.md\n",
    "!git init\n",
    "!git add\n",
    "!git commit -m \"first commit\"\n",
    "!git remote add origin https://github.com/username/cookiecutter.git\n",
    "!git push -u origin master"
   ]
  },
  {
   "cell_type": "markdown",
   "metadata": {},
   "source": [
    "make sure you replace the __username__ with your github username. "
   ]
  },
  {
   "cell_type": "markdown",
   "metadata": {},
   "source": [
    "### Use it directly from github. "
   ]
  },
  {
   "cell_type": "markdown",
   "metadata": {},
   "source": [
    "creat a new folder and run the follow commnad: "
   ]
  },
  {
   "cell_type": "code",
   "execution_count": null,
   "metadata": {},
   "outputs": [],
   "source": [
    "!cookiecutter https://github.com/username/cookiecutter.git"
   ]
  },
  {
   "cell_type": "markdown",
   "metadata": {},
   "source": [
    "and it will ask you for all the information listed in the __cookiecutter.json__ file. That's all for a simple template. "
   ]
  },
  {
   "cell_type": "code",
   "execution_count": null,
   "metadata": {},
   "outputs": [],
   "source": []
  }
 ],
 "metadata": {
  "kernelspec": {
   "display_name": "Python 3",
   "language": "python",
   "name": "python3"
  },
  "language_info": {
   "codemirror_mode": {
    "name": "ipython",
    "version": 3
   },
   "file_extension": ".py",
   "mimetype": "text/x-python",
   "name": "python",
   "nbconvert_exporter": "python",
   "pygments_lexer": "ipython3",
   "version": "3.7.4"
  }
 },
 "nbformat": 4,
 "nbformat_minor": 4
}
